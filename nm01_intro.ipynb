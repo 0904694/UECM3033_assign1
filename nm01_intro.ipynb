{
 "cells": [
  {
   "cell_type": "markdown",
   "metadata": {
    "slideshow": {
     "slide_type": "slide"
    }
   },
   "source": [
    "<center><img src=\"nm01_png/nm01_intro-0.jpg\" alt=\"nm01_png/nm01_intro-0.jpg\" width='900px' /></center>"
   ]
  },
  {
   "cell_type": "markdown",
   "metadata": {
    "slideshow": {
     "slide_type": "slide"
    }
   },
   "source": [
    "<center><img src=\"nm01_png/nm01_intro-1.jpg\" alt=\"nm01_png/nm01_intro-1.jpg\" width='900px' /></center>"
   ]
  },
  {
   "cell_type": "markdown",
   "metadata": {
    "slideshow": {
     "slide_type": "slide"
    }
   },
   "source": [
    "<center><img src=\"nm01_png/nm01_intro-2.jpg\" alt=\"nm01_png/nm01_intro-2.jpg\" width='900px' /></center>"
   ]
  },
  {
   "cell_type": "markdown",
   "metadata": {
    "slideshow": {
     "slide_type": "slide"
    }
   },
   "source": [
    "<center><img src=\"nm01_png/nm01_intro-3.jpg\" alt=\"nm01_png/nm01_intro-3.jpg\" width='900px' /></center>"
   ]
  },
  {
   "cell_type": "markdown",
   "metadata": {
    "slideshow": {
     "slide_type": "slide"
    }
   },
   "source": [
    "<center><img src=\"nm01_png/nm01_intro-4.jpg\" alt=\"nm01_png/nm01_intro-4.jpg\" width='900px' /></center>"
   ]
  },
  {
   "cell_type": "markdown",
   "metadata": {
    "slideshow": {
     "slide_type": "slide"
    }
   },
   "source": [
    "<center><img src=\"nm01_png/nm01_intro-5.jpg\" alt=\"nm01_png/nm01_intro-5.jpg\" width='900px' /></center>"
   ]
  },
  {
   "cell_type": "markdown",
   "metadata": {
    "slideshow": {
     "slide_type": "slide"
    }
   },
   "source": [
    "<center><img src=\"nm01_png/nm01_intro-6.jpg\" alt=\"nm01_png/nm01_intro-6.jpg\" width='900px' /></center>"
   ]
  },
  {
   "cell_type": "code",
   "execution_count": 1,
   "metadata": {
    "collapsed": false,
    "slideshow": {
     "slide_type": "slide"
    }
   },
   "outputs": [
    {
     "name": "stdout",
     "output_type": "stream",
     "text": [
      "1.414212962962963\n"
     ]
    }
   ],
   "source": [
    "sqrt_2 = 1 + 24/60 + 51/(60**2) + 10/(60**3)\n",
    "print(sqrt_2)"
   ]
  },
  {
   "cell_type": "code",
   "execution_count": 1,
   "metadata": {
    "collapsed": false
   },
   "outputs": [
    {
     "data": {
      "text/plain": [
       "3.0"
      ]
     },
     "execution_count": 1,
     "metadata": {},
     "output_type": "execute_result"
    }
   ],
   "source": [
    "import numpy as np\n",
    "np.sqrt(9)"
   ]
  },
  {
   "cell_type": "code",
   "execution_count": 3,
   "metadata": {
    "collapsed": false
   },
   "outputs": [
    {
     "name": "stdout",
     "output_type": "stream",
     "text": [
      "4.23846969188e-07\n"
     ]
    }
   ],
   "source": [
    "error = abs(sqrt_2 - np.sqrt(2))/np.sqrt(2)\n",
    "print(error)"
   ]
  },
  {
   "cell_type": "markdown",
   "metadata": {},
   "source": [
    "For an old 32-bit computer, the machine epsilon of a floating-point number is $2^{-23} \\approx 1.2 \\times 10^{-07}$."
   ]
  },
  {
   "cell_type": "markdown",
   "metadata": {
    "slideshow": {
     "slide_type": "slide"
    }
   },
   "source": [
    "<center><img src=\"nm01_png/nm01_intro-8.jpg\" alt=\"nm01_png/nm01_intro-8.jpg\" width='900px' /></center>"
   ]
  },
  {
   "cell_type": "code",
   "execution_count": 4,
   "metadata": {
    "collapsed": false,
    "slideshow": {
     "slide_type": "slide"
    }
   },
   "outputs": [
    {
     "data": {
      "image/png": "[encoded data removed]",
      "text/plain": [
       "<matplotlib.figure.Figure at 0x7f941810aa20>"
      ]
     },
     "metadata": {},
     "output_type": "display_data"
    }
   ],
   "source": [
    "x = np.zeros(10)\n",
    "x[0] = 50\n",
    "for n in range(0, 9):\n",
    "    x[n+1] = 0.5*(x[n] + 100/x[n])\n",
    "\n",
    "import matplotlib.pyplot as pl\n",
    "%matplotlib inline \n",
    "pl.plot(x)\n",
    "pl.ylim([-20,70])\n",
    "pl.grid('on')\n",
    "pl.show()"
   ]
  },
  {
   "cell_type": "markdown",
   "metadata": {
    "slideshow": {
     "slide_type": "slide"
    }
   },
   "source": [
    "<center><img src=\"nm01_png/nm01_intro-11.jpg\" alt=\"nm01_png/nm01_intro-11.jpg\" width='900px' /></center>"
   ]
  },
  {
   "cell_type": "markdown",
   "metadata": {
    "slideshow": {
     "slide_type": "slide"
    }
   },
   "source": [
    "<center><img src=\"nm01_png/nm01_intro-12.jpg\" alt=\"nm01_png/nm01_intro-12.jpg\" width='900px' /></center>"
   ]
  },
  {
   "cell_type": "markdown",
   "metadata": {
    "slideshow": {
     "slide_type": "slide"
    }
   },
   "source": [
    "<center><img src=\"nm01_png/nm01_intro-13.jpg\" alt=\"nm01_png/nm01_intro-13.jpg\" width='900px' /></center>"
   ]
  },
  {
   "cell_type": "markdown",
   "metadata": {
    "slideshow": {
     "slide_type": "slide"
    }
   },
   "source": [
    "<center><img src=\"nm01_png/nm01_intro-14.jpg\" alt=\"nm01_png/nm01_intro-14.jpg\" width='900px' /></center>"
   ]
  },
  {
   "cell_type": "markdown",
   "metadata": {
    "slideshow": {
     "slide_type": "slide"
    }
   },
   "source": [
    "<center><img src=\"nm01_png/nm01_intro-15.jpg\" alt=\"nm01_png/nm01_intro-15.jpg\" width='900px' /></center>"
   ]
  },
  {
   "cell_type": "markdown",
   "metadata": {
    "slideshow": {
     "slide_type": "slide"
    }
   },
   "source": [
    "<center><img src=\"nm01_png/nm01_intro-16.jpg\" alt=\"nm01_png/nm01_intro-16.jpg\" width='900px' /></center>"
   ]
  },
  {
   "cell_type": "markdown",
   "metadata": {
    "slideshow": {
     "slide_type": "slide"
    }
   },
   "source": [
    "<center><img src=\"nm01_png/nm01_intro-17.jpg\" alt=\"nm01_png/nm01_intro-17.jpg\" width='900px' /></center>"
   ]
  },
  {
   "cell_type": "markdown",
   "metadata": {
    "slideshow": {
     "slide_type": "slide"
    }
   },
   "source": [
    "<center><img src=\"nm01_png/nm01_intro-18.jpg\" alt=\"nm01_png/nm01_intro-18.jpg\" width='900px' /></center>"
   ]
  },
  {
   "cell_type": "markdown",
   "metadata": {
    "slideshow": {
     "slide_type": "slide"
    }
   },
   "source": [
    "<center><img src=\"nm01_png/nm01_intro-19.jpg\" alt=\"nm01_png/nm01_intro-19.jpg\" width='900px' /></center>"
   ]
  },
  {
   "cell_type": "markdown",
   "metadata": {
    "slideshow": {
     "slide_type": "slide"
    }
   },
   "source": [
    "<center><img src=\"nm01_png/nm01_intro-20.jpg\" alt=\"nm01_png/nm01_intro-20.jpg\" width='900px' /></center>"
   ]
  },
  {
   "cell_type": "markdown",
   "metadata": {
    "slideshow": {
     "slide_type": "slide"
    }
   },
   "source": [
    "<center><img src=\"nm01_png/nm01_intro-21.jpg\" alt=\"nm01_png/nm01_intro-21.jpg\" width='900px' /></center>"
   ]
  },
  {
   "cell_type": "markdown",
   "metadata": {
    "slideshow": {
     "slide_type": "slide"
    }
   },
   "source": [
    "<center><img src=\"nm01_png/nm01_intro-22.jpg\" alt=\"nm01_png/nm01_intro-22.jpg\" width='900px' /></center>"
   ]
  },
  {
   "cell_type": "markdown",
   "metadata": {
    "slideshow": {
     "slide_type": "slide"
    }
   },
   "source": [
    "<center><img src=\"nm01_png/nm01_intro-23.jpg\" alt=\"nm01_png/nm01_intro-23.jpg\" width='900px' /></center>"
   ]
  },
  {
   "cell_type": "markdown",
   "metadata": {
    "slideshow": {
     "slide_type": "slide"
    }
   },
   "source": [
    "<center><img src=\"nm01_png/nm01_intro-24.jpg\" alt=\"nm01_png/nm01_intro-24.jpg\" width='900px' /></center>"
   ]
  },
  {
   "cell_type": "markdown",
   "metadata": {
    "slideshow": {
     "slide_type": "slide"
    }
   },
   "source": [
    "<center><img src=\"nm01_png/nm01_intro-25.jpg\" alt=\"nm01_png/nm01_intro-25.jpg\" width='900px' /></center>"
   ]
  },
  {
   "cell_type": "markdown",
   "metadata": {
    "slideshow": {
     "slide_type": "slide"
    }
   },
   "source": [
    "<center><img src=\"nm01_png/nm01_intro-26.jpg\" alt=\"nm01_png/nm01_intro-26.jpg\" width='900px' /></center>"
   ]
  },
  {
   "cell_type": "markdown",
   "metadata": {
    "slideshow": {
     "slide_type": "slide"
    }
   },
   "source": [
    "<center><img src=\"nm01_png/nm01_intro-27.jpg\" alt=\"nm01_png/nm01_intro-27.jpg\" width='900px' /></center>"
   ]
  },
  {
   "cell_type": "markdown",
   "metadata": {
    "slideshow": {
     "slide_type": "slide"
    }
   },
   "source": [
    "<center><img src=\"nm01_png/nm01_intro-28.jpg\" alt=\"nm01_png/nm01_intro-28.jpg\" width='900px' /></center>"
   ]
  },
  {
   "cell_type": "markdown",
   "metadata": {
    "slideshow": {
     "slide_type": "slide"
    }
   },
   "source": [
    "<center><img src=\"nm01_png/nm01_intro-29.jpg\" alt=\"nm01_png/nm01_intro-29.jpg\" width='900px' /></center>"
   ]
  },
  {
   "cell_type": "code",
   "execution_count": 5,
   "metadata": {
    "collapsed": true,
    "slideshow": {
     "slide_type": "slide"
    }
   },
   "outputs": [],
   "source": [
    "import numpy as np\n",
    "from scipy.misc import factorial\n",
    "def cos_series(x,N):\n",
    "    n = np.arange(N)\n",
    "    u = (-1)**n * x**(2*n) / factorial(2*n)\n",
    "    return sum(u)"
   ]
  },
  {
   "cell_type": "code",
   "execution_count": 6,
   "metadata": {
    "collapsed": false
   },
   "outputs": [
    {
     "data": {
      "text/plain": [
       "1.0"
      ]
     },
     "execution_count": 6,
     "metadata": {},
     "output_type": "execute_result"
    }
   ],
   "source": [
    "cos_series(0.1, N=1)"
   ]
  },
  {
   "cell_type": "code",
   "execution_count": 7,
   "metadata": {
    "collapsed": false
   },
   "outputs": [
    {
     "data": {
      "text/plain": [
       "0.995"
      ]
     },
     "execution_count": 7,
     "metadata": {},
     "output_type": "execute_result"
    }
   ],
   "source": [
    "cos_series(0.1, N=2)"
   ]
  },
  {
   "cell_type": "code",
   "execution_count": 8,
   "metadata": {
    "collapsed": false
   },
   "outputs": [
    {
     "data": {
      "text/plain": [
       "0.99500416666666669"
      ]
     },
     "execution_count": 8,
     "metadata": {},
     "output_type": "execute_result"
    }
   ],
   "source": [
    "cos_series(0.1, N=3)"
   ]
  },
  {
   "cell_type": "code",
   "execution_count": 9,
   "metadata": {
    "collapsed": false
   },
   "outputs": [
    {
     "data": {
      "text/plain": [
       "0.99500416527802582"
      ]
     },
     "execution_count": 9,
     "metadata": {},
     "output_type": "execute_result"
    }
   ],
   "source": [
    "cos_series(0.1, N=100)"
   ]
  },
  {
   "cell_type": "markdown",
   "metadata": {
    "slideshow": {
     "slide_type": "slide"
    }
   },
   "source": [
    "<center><img src=\"nm01_png/nm01_intro-31.jpg\" alt=\"nm01_png/nm01_intro-31.jpg\" width='900px' /></center>"
   ]
  },
  {
   "cell_type": "markdown",
   "metadata": {
    "slideshow": {
     "slide_type": "slide"
    }
   },
   "source": [
    "<center><img src=\"nm01_png/nm01_intro-32.jpg\" alt=\"nm01_png/nm01_intro-32.jpg\" width='900px' /></center>"
   ]
  },
  {
   "cell_type": "markdown",
   "metadata": {
    "slideshow": {
     "slide_type": "slide"
    }
   },
   "source": [
    "<center><img src=\"nm01_png/nm01_intro-33.jpg\" alt=\"nm01_png/nm01_intro-33.jpg\" width='900px' /></center>"
   ]
  },
  {
   "cell_type": "markdown",
   "metadata": {
    "slideshow": {
     "slide_type": "slide"
    }
   },
   "source": [
    "<center><img src=\"nm01_png/nm01_intro-34.jpg\" alt=\"nm01_png/nm01_intro-34.jpg\" width='900px' /></center>"
   ]
  },
  {
   "cell_type": "markdown",
   "metadata": {
    "slideshow": {
     "slide_type": "slide"
    }
   },
   "source": [
    "<center><img src=\"nm01_png/nm01_intro-35.jpg\" alt=\"nm01_png/nm01_intro-35.jpg\" width='900px' /></center>"
   ]
  },
  {
   "cell_type": "markdown",
   "metadata": {
    "slideshow": {
     "slide_type": "slide"
    }
   },
   "source": [
    "<center><img src=\"nm01_png/nm01_intro-36.jpg\" alt=\"nm01_png/nm01_intro-36.jpg\" width='900px' /></center>"
   ]
  },
  {
   "cell_type": "markdown",
   "metadata": {
    "slideshow": {
     "slide_type": "slide"
    }
   },
   "source": [
    "<center><img src=\"nm01_png/nm01_intro-37.jpg\" alt=\"nm01_png/nm01_intro-37.jpg\" width='900px' /></center>"
   ]
  },
  {
   "cell_type": "markdown",
   "metadata": {
    "slideshow": {
     "slide_type": "slide"
    }
   },
   "source": [
    "<center><img src=\"nm01_png/nm01_intro-38.jpg\" alt=\"nm01_png/nm01_intro-38.jpg\" width='900px' /></center>"
   ]
  },
  {
   "cell_type": "code",
   "execution_count": 10,
   "metadata": {
    "collapsed": false,
    "slideshow": {
     "slide_type": "slide"
    }
   },
   "outputs": [
    {
     "name": "stdout",
     "output_type": "stream",
     "text": [
      "eps =  1.0\n",
      "eps =  0.1\n",
      "eps =  0.01\n",
      "eps =  0.001\n",
      "eps =  0.0001\n",
      "eps =  1e-05\n",
      "eps =  1.0000000000000002e-06\n",
      "eps =  1.0000000000000002e-07\n",
      "eps =  1.0000000000000002e-08\n",
      "eps =  1.0000000000000003e-09\n",
      "eps =  1.0000000000000003e-10\n",
      "eps =  1.0000000000000003e-11\n",
      "eps =  1.0000000000000002e-12\n",
      "eps =  1.0000000000000002e-13\n",
      "eps =  1.0000000000000002e-14\n",
      "eps =  1e-15\n",
      "eps =  1.0000000000000001e-16\n",
      "Escaped! eps =  1e-17\n"
     ]
    }
   ],
   "source": [
    "# This demonstrate finite precision arithmetic\n",
    "eps = 1.0\n",
    "while 1.0 - eps < 1.0:\n",
    "    print(\"eps = \", eps)\n",
    "    eps = eps/10\n",
    "print(\"Escaped! eps = \", eps)"
   ]
  },
  {
   "cell_type": "markdown",
   "metadata": {
    "slideshow": {
     "slide_type": "slide"
    }
   },
   "source": [
    "<center><img src=\"nm01_png/nm01_intro-40.jpg\" alt=\"nm01_png/nm01_intro-40.jpg\" width='900px' /></center>"
   ]
  },
  {
   "cell_type": "markdown",
   "metadata": {
    "slideshow": {
     "slide_type": "slide"
    }
   },
   "source": [
    "<center><img src=\"nm01_png/nm01_intro-41.jpg\" alt=\"nm01_png/nm01_intro-41.jpg\" width='900px' /></center>"
   ]
  },
  {
   "cell_type": "markdown",
   "metadata": {
    "slideshow": {
     "slide_type": "slide"
    }
   },
   "source": [
    "<center><img src=\"nm01_png/nm01_intro-42.jpg\" alt=\"nm01_png/nm01_intro-42.jpg\" width='900px' /></center>"
   ]
  },
  {
   "cell_type": "code",
   "execution_count": 11,
   "metadata": {
    "collapsed": false,
    "slideshow": {
     "slide_type": "slide"
    }
   },
   "outputs": [
    {
     "name": "stdout",
     "output_type": "stream",
     "text": [
      "b'\\x00'\n",
      "b'\\xff'\n",
      "0b0\n",
      "0b11111111\n"
     ]
    }
   ],
   "source": [
    "import struct # performs conversions between Python values and C structs represented as Python strings. \n",
    "\n",
    "str_uint8 = struct.pack('<B', 0)      # '<B' means small endian unsigned char (1 byte)\n",
    "print(str_uint8)\n",
    "str_uint8 = struct.pack('<B', 255)    # '<B' means small endian unsigned char (1 byte)\n",
    "print(str_uint8)\n",
    "\n",
    "print(bin(0x00))\n",
    "print(bin(0xff))"
   ]
  },
  {
   "cell_type": "markdown",
   "metadata": {},
   "source": [
    "The signed integers discussed above are **over simplified**. For details, see *Two's complement* section of https://en.wikipedia.org/wiki/Signed_number_representations "
   ]
  },
  {
   "cell_type": "code",
   "execution_count": 12,
   "metadata": {
    "collapsed": false,
    "slideshow": {
     "slide_type": "slide"
    }
   },
   "outputs": [
    {
     "name": "stdout",
     "output_type": "stream",
     "text": [
      "b'\\x00'\n",
      "b'\\x81'\n",
      "b'\\x7f'\n",
      "0b0\n",
      "0b10000001\n",
      "0b1111111\n"
     ]
    }
   ],
   "source": [
    "str_int8 = struct.pack('<b', 0)        # '<b' means small endian signed char (1 byte)\n",
    "print(str_int8)\n",
    "str_int8 = struct.pack('<b', -127)     # '<b' means small endian signed char (1 byte)\n",
    "print(str_int8)\n",
    "str_int8 = struct.pack('<b', 127)      # '<b' means small endian signed char (1 byte)\n",
    "print(str_int8)\n",
    "\n",
    "print(bin(0x00))\n",
    "print(bin(0x81))\n",
    "print(bin(0x7f))"
   ]
  },
  {
   "cell_type": "markdown",
   "metadata": {
    "slideshow": {
     "slide_type": "slide"
    }
   },
   "source": [
    "<center><img src=\"nm01_png/nm01_intro-46.jpg\" alt=\"nm01_png/nm01_intro-46.jpg\" width='900px' /></center>"
   ]
  },
  {
   "cell_type": "code",
   "execution_count": 13,
   "metadata": {
    "collapsed": false,
    "slideshow": {
     "slide_type": "slide"
    }
   },
   "outputs": [
    {
     "data": {
      "text/plain": [
       "'0b11111111111111111111111111111111'"
      ]
     },
     "execution_count": 13,
     "metadata": {},
     "output_type": "execute_result"
    }
   ],
   "source": [
    "bin(2**32 -1)"
   ]
  },
  {
   "cell_type": "code",
   "execution_count": 14,
   "metadata": {
    "collapsed": false
   },
   "outputs": [
    {
     "data": {
      "text/plain": [
       "4294967295"
      ]
     },
     "execution_count": 14,
     "metadata": {},
     "output_type": "execute_result"
    }
   ],
   "source": [
    "0b11111111111111111111111111111111"
   ]
  },
  {
   "cell_type": "code",
   "execution_count": 15,
   "metadata": {
    "collapsed": false
   },
   "outputs": [
    {
     "data": {
      "text/plain": [
       "15"
      ]
     },
     "execution_count": 15,
     "metadata": {},
     "output_type": "execute_result"
    }
   ],
   "source": [
    "0b1111"
   ]
  },
  {
   "cell_type": "code",
   "execution_count": 16,
   "metadata": {
    "collapsed": false
   },
   "outputs": [
    {
     "data": {
      "text/plain": [
       "'0xf'"
      ]
     },
     "execution_count": 16,
     "metadata": {},
     "output_type": "execute_result"
    }
   ],
   "source": [
    "hex(0b1111)"
   ]
  },
  {
   "cell_type": "code",
   "execution_count": 17,
   "metadata": {
    "collapsed": false
   },
   "outputs": [
    {
     "data": {
      "text/plain": [
       "'0xffffffff'"
      ]
     },
     "execution_count": 17,
     "metadata": {},
     "output_type": "execute_result"
    }
   ],
   "source": [
    "hex(2**32 -1)"
   ]
  },
  {
   "cell_type": "markdown",
   "metadata": {
    "slideshow": {
     "slide_type": "slide"
    }
   },
   "source": [
    "<center><img src=\"nm01_png/nm01_intro-48.jpg\" alt=\"nm01_png/nm01_intro-48.jpg\" width='900px' /></center>"
   ]
  },
  {
   "cell_type": "markdown",
   "metadata": {
    "slideshow": {
     "slide_type": "slide"
    }
   },
   "source": [
    "<center><img src=\"nm01_png/nm01_intro-49.jpg\" alt=\"nm01_png/nm01_intro-49.jpg\" width='900px' /></center>"
   ]
  },
  {
   "cell_type": "markdown",
   "metadata": {
    "slideshow": {
     "slide_type": "slide"
    }
   },
   "source": [
    "<center><img src=\"nm01_png/nm01_intro-50.jpg\" alt=\"nm01_png/nm01_intro-50.jpg\" width='900px' /></center>"
   ]
  },
  {
   "cell_type": "code",
   "execution_count": 3,
   "metadata": {
    "collapsed": false,
    "slideshow": {
     "slide_type": "slide"
    }
   },
   "outputs": [
    {
     "name": "stdout",
     "output_type": "stream",
     "text": [
      "0b01000100101001000010101000000000\n",
      "0x44A42A00\n"
     ]
    }
   ],
   "source": [
    "import struct # performs conversions between Python values and C structs represented as Python strings. \n",
    "\n",
    "def float_to_int(f):\n",
    "    str_4bytes = struct.pack('<f', f)                  # '<f' means small endian float (4 bytes)\n",
    "    int_4bytes = struct.unpack('<I', str_4bytes)[0]    # '<I' means small endian unsigned int (4 bytes)\n",
    "    return int_4bytes \n",
    "\n",
    "ieee_val = float_to_int(1313.3125)\n",
    "print('0b{0:032b}'.format(ieee_val))\n",
    "print('0x{0:X}'.format(ieee_val))"
   ]
  },
  {
   "cell_type": "markdown",
   "metadata": {
    "slideshow": {
     "slide_type": "slide"
    }
   },
   "source": [
    "<center><img src=\"nm01_png/nm01_intro-52.jpg\" alt=\"nm01_png/nm01_intro-52.jpg\" width='900px' /></center>"
   ]
  },
  {
   "cell_type": "code",
   "execution_count": 7,
   "metadata": {
    "collapsed": false,
    "slideshow": {
     "slide_type": "slide"
    }
   },
   "outputs": [
    {
     "name": "stdout",
     "output_type": "stream",
     "text": [
      "0b0100000010010100100001010100000000000000000000000000000000000000\n",
      "0x4094854000000000\n"
     ]
    }
   ],
   "source": [
    "import struct # performs conversions between Python values and C structs represented as Python strings. \n",
    "\n",
    "def double_to_int(f):\n",
    "    str_8bytes = struct.pack('<d', f)                  # '<d' means small endian double (8 bytes)\n",
    "    int_8bytes = struct.unpack('<Q', str_8bytes)[0]    # '<Q' means small endian unsigned int (8 bytes)\n",
    "    return int_8bytes \n",
    "\n",
    "ieee_val = double_to_int(1313.3125)\n",
    "print('0b{0:064b}'.format(ieee_val))\n",
    "print('0x{0:X}'.format(ieee_val))"
   ]
  },
  {
   "cell_type": "markdown",
   "metadata": {
    "slideshow": {
     "slide_type": "slide"
    }
   },
   "source": [
    "<center><img src=\"nm01_png/nm01_intro-54.jpg\" alt=\"nm01_png/nm01_intro-54.jpg\" width='900px' /></center>"
   ]
  },
  {
   "cell_type": "markdown",
   "metadata": {
    "slideshow": {
     "slide_type": "slide"
    }
   },
   "source": [
    "<center><img src=\"nm01_png/nm01_intro-55.jpg\" alt=\"nm01_png/nm01_intro-55.jpg\" width='900px' /></center>"
   ]
  },
  {
   "cell_type": "code",
   "execution_count": 20,
   "metadata": {
    "collapsed": false,
    "slideshow": {
     "slide_type": "slide"
    }
   },
   "outputs": [
    {
     "name": "stdout",
     "output_type": "stream",
     "text": [
      "2.2250738585072014e-308\n",
      "1.7976931348623157e+308\n",
      "2.220446049250313e-16\n"
     ]
    }
   ],
   "source": [
    "import sys\n",
    "print(sys.float_info.min)\n",
    "print(sys.float_info.max)\n",
    "print(sys.float_info.epsilon)"
   ]
  },
  {
   "cell_type": "code",
   "execution_count": 21,
   "metadata": {
    "collapsed": false,
    "slideshow": {
     "slide_type": "slide"
    }
   },
   "outputs": [
    {
     "name": "stdout",
     "output_type": "stream",
     "text": [
      "1.0000000000000002\n",
      "1.0\n",
      "inf\n",
      "1.7976931348623157e+308\n"
     ]
    }
   ],
   "source": [
    "eps = sys.float_info.epsilon\n",
    "f   = sys.float_info.max\n",
    "print(1+eps)\n",
    "print(1+eps/2)\n",
    "print(f*(1+eps))\n",
    "print(f*(1+eps/2))"
   ]
  },
  {
   "cell_type": "markdown",
   "metadata": {
    "slideshow": {
     "slide_type": "slide"
    }
   },
   "source": [
    "<center><img src=\"nm01_png/nm01_intro-58.jpg\" alt=\"nm01_png/nm01_intro-58.jpg\" width='900px' /></center>"
   ]
  },
  {
   "cell_type": "markdown",
   "metadata": {
    "slideshow": {
     "slide_type": "slide"
    }
   },
   "source": [
    "<center><img src=\"nm01_png/nm01_intro-59.jpg\" alt=\"nm01_png/nm01_intro-59.jpg\" width='900px' /></center>"
   ]
  },
  {
   "cell_type": "markdown",
   "metadata": {
    "slideshow": {
     "slide_type": "slide"
    }
   },
   "source": [
    "<center><img src=\"nm01_png/nm01_intro-60.jpg\" alt=\"nm01_png/nm01_intro-60.jpg\" width='900px' /></center>"
   ]
  },
  {
   "cell_type": "markdown",
   "metadata": {
    "slideshow": {
     "slide_type": "slide"
    }
   },
   "source": [
    "<center><img src=\"nm01_png/nm01_intro-61.jpg\" alt=\"nm01_png/nm01_intro-61.jpg\" width='900px' /></center>"
   ]
  },
  {
   "cell_type": "markdown",
   "metadata": {
    "slideshow": {
     "slide_type": "slide"
    }
   },
   "source": [
    "<center><img src=\"nm01_png/nm01_intro-62.jpg\" alt=\"nm01_png/nm01_intro-62.jpg\" width='900px' /></center>"
   ]
  },
  {
   "cell_type": "markdown",
   "metadata": {
    "slideshow": {
     "slide_type": "slide"
    }
   },
   "source": [
    "<center><img src=\"nm01_png/nm01_intro-63.jpg\" alt=\"nm01_png/nm01_intro-63.jpg\" width='900px' /></center>"
   ]
  },
  {
   "cell_type": "markdown",
   "metadata": {
    "slideshow": {
     "slide_type": "slide"
    }
   },
   "source": [
    "<center><img src=\"nm01_png/nm01_intro-64.jpg\" alt=\"nm01_png/nm01_intro-64.jpg\" width='900px' /></center>"
   ]
  },
  {
   "cell_type": "markdown",
   "metadata": {
    "slideshow": {
     "slide_type": "slide"
    }
   },
   "source": [
    "<center><img src=\"nm01_png/nm01_intro-65.jpg\" alt=\"nm01_png/nm01_intro-65.jpg\" width='900px' /></center>"
   ]
  },
  {
   "cell_type": "markdown",
   "metadata": {
    "slideshow": {
     "slide_type": "slide"
    }
   },
   "source": [
    "<center><img src=\"nm01_png/nm01_intro-66.jpg\" alt=\"nm01_png/nm01_intro-66.jpg\" width='900px' /></center>"
   ]
  },
  {
   "cell_type": "markdown",
   "metadata": {
    "slideshow": {
     "slide_type": "slide"
    }
   },
   "source": [
    "<center><img src=\"nm01_png/nm01_intro-67.jpg\" alt=\"nm01_png/nm01_intro-67.jpg\" width='900px' /></center>"
   ]
  },
  {
   "cell_type": "markdown",
   "metadata": {
    "slideshow": {
     "slide_type": "slide"
    }
   },
   "source": [
    "<center><img src=\"nm01_png/nm01_intro-68.jpg\" alt=\"nm01_png/nm01_intro-68.jpg\" width='900px' /></center>"
   ]
  },
  {
   "cell_type": "markdown",
   "metadata": {
    "slideshow": {
     "slide_type": "slide"
    }
   },
   "source": [
    "<center><img src=\"nm01_png/nm01_intro-69.jpg\" alt=\"nm01_png/nm01_intro-69.jpg\" width='900px' /></center>"
   ]
  },
  {
   "cell_type": "code",
   "execution_count": 22,
   "metadata": {
    "collapsed": false,
    "slideshow": {
     "slide_type": "slide"
    }
   },
   "outputs": [
    {
     "name": "stdout",
     "output_type": "stream",
     "text": [
      "0b10011    =  19\n",
      "0b11.001   =  3.125\n",
      "0x2f91     =  12177\n",
      "0x2F91     =  12177\n",
      "bin(19)    =  0b10011\n",
      "hex(12177) =  0x2f91\n"
     ]
    }
   ],
   "source": [
    "print('0b10011    = ', 0b10011)\n",
    "print('0b11.001   = ', 0b11001 * 2**(-3))\n",
    "print('0x2f91     = ', 0x2f91)\n",
    "print('0x2F91     = ', 0x2F91)\n",
    "print('bin(19)    = ', bin(19))\n",
    "print('hex(12177) = ', hex(12177))\n",
    "\n",
    "# We can't do \"bin(3.125)\" as bin only takes in integer,\n",
    "# therefore there is no notion of period(.) in bin or hex"
   ]
  },
  {
   "cell_type": "markdown",
   "metadata": {
    "slideshow": {
     "slide_type": "slide"
    }
   },
   "source": [
    "<center><img src=\"nm01_png/nm01_intro-71.jpg\" alt=\"nm01_png/nm01_intro-71.jpg\" width='900px' /></center>"
   ]
  },
  {
   "cell_type": "markdown",
   "metadata": {
    "slideshow": {
     "slide_type": "slide"
    }
   },
   "source": [
    "<center><img src=\"nm01_png/nm01_intro-72.jpg\" alt=\"nm01_png/nm01_intro-72.jpg\" width='900px' /></center>"
   ]
  }
 ],
 "metadata": {
  "celltoolbar": "Slideshow",
  "kernelspec": {
   "display_name": "Python 3",
   "language": "python",
   "name": "python3"
  },
  "language_info": {
   "codemirror_mode": {
    "name": "ipython",
    "version": 3
   },
   "file_extension": ".py",
   "mimetype": "text/x-python",
   "name": "python",
   "nbconvert_exporter": "python",
   "pygments_lexer": "ipython3",
   "version": "3.4.1"
  }
 },
 "nbformat": 4,
 "nbformat_minor": 0
}
